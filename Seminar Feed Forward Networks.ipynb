{
 "cells": [
  {
   "cell_type": "markdown",
   "id": "efbab2a9",
   "metadata": {},
   "source": [
    "https://levelup.gitconnected.com/killer-combo-softmax-and-cross-entropy-5907442f60ba"
   ]
  },
  {
   "cell_type": "markdown",
   "id": "e47a5ada",
   "metadata": {},
   "source": [
    "# Data Preparation."
   ]
  },
  {
   "cell_type": "code",
   "execution_count": 1,
   "id": "e7c40c78",
   "metadata": {},
   "outputs": [],
   "source": [
    "import re \n",
    "import numpy as np\n",
    "from sklearn import preprocessing\n",
    "import matplotlib.pyplot as plt\n",
    "from sklearn.preprocessing import binarize\n",
    "np.random.seed(3)"
   ]
  },
  {
   "cell_type": "code",
   "execution_count": 2,
   "id": "c4a7ad26",
   "metadata": {},
   "outputs": [],
   "source": [
    "test_text = '''where are you?\n",
    "is she in mexico?\n",
    "i am in greece.\n",
    "she is in mexico.\n",
    "is she in england?\n",
    "'''\n",
    "\n",
    "train_text = '''are you still here?\n",
    "where are you?\n",
    "he is in mexico.\n",
    "are you tired?\n",
    "i am tired.\n",
    "are you in england?\n",
    "were you in mexico?\n",
    "is he in greece?\n",
    "were you in england?\n",
    "are you in mexico?\n",
    "i am in mexico.\n",
    "are you still in mexico? \n",
    "are you in greece again?\n",
    "she is in england.\n",
    "he is tired.\n",
    "'''"
   ]
  },
  {
   "cell_type": "code",
   "execution_count": 3,
   "id": "90df5429",
   "metadata": {},
   "outputs": [],
   "source": [
    "def tokenise(s):\n",
    "    return [i for i in re.sub('([.?])', ' \\g<1>', s).strip().split(' ') if i]"
   ]
  },
  {
   "cell_type": "code",
   "execution_count": 4,
   "id": "2d719d1d",
   "metadata": {},
   "outputs": [],
   "source": [
    "def one_hot(y, classes):\n",
    "    onehot = np.zeros((len(y), classes)) # creates matrix of ? rows, ? columns \n",
    "    \n",
    "    # Iterate through y and update onehot's column to 1 based on the class\n",
    "    # y [0, 1, 4, 3, 2]\n",
    "    for i, v in enumerate(y):\n",
    "        onehot[i][v] = 1\n",
    "    return onehot"
   ]
  },
  {
   "cell_type": "code",
   "execution_count": 5,
   "id": "16303cbf",
   "metadata": {},
   "outputs": [],
   "source": [
    "vocab = list(set([token for token in re.sub('([.?])', ' \\g<1>', train_text)\n",
    "             .replace(' ', '\\n').strip().split('\\n') if token]))\n",
    "vocab += ['<BOS>', '<EOS>', '<PAD>']\n",
    "vocab.sort()"
   ]
  },
  {
   "cell_type": "code",
   "execution_count": 6,
   "id": "67afe85d",
   "metadata": {},
   "outputs": [],
   "source": [
    "word2idx = {word: idx for idx, word in enumerate(vocab)}\n",
    "idx2word = {idx: word for word, idx in word2idx.items()}"
   ]
  },
  {
   "cell_type": "code",
   "execution_count": 7,
   "id": "39fd5734",
   "metadata": {},
   "outputs": [],
   "source": [
    "pad = max([len(tokenise(i)) for i in train_text.split('\\n')]) + 1\n",
    "train_sentences = []\n",
    "for line in train_text.strip().split('\\n'):\n",
    "        tokens = tokenise(line)\n",
    "        padded = ['<BOS>'] + tokens + ['<EOS>'] + ['<PAD>'] * (pad - len(tokens))\n",
    "        train_sentences.append([word2idx[token] for token in padded])"
   ]
  },
  {
   "cell_type": "code",
   "execution_count": 8,
   "id": "6dff04f8",
   "metadata": {},
   "outputs": [],
   "source": [
    "x = []\n",
    "y = []\n",
    "for sentence in train_sentences:\n",
    "    for i in range(pad - 2):\n",
    "            x.append([sentence[i], sentence[i+1]])\n",
    "            y.append(sentence[i+2])\n",
    "X = np.array(x)\n",
    "Y = np.array(y)\n",
    "Yo = one_hot(Y, len(vocab))"
   ]
  },
  {
   "cell_type": "code",
   "execution_count": 9,
   "id": "937f7437",
   "metadata": {},
   "outputs": [],
   "source": [
    "test_sentences = []\n",
    "for line in test_text.strip().split('\\n'):\n",
    "        tokens = tokenise(line)\n",
    "        padded = ['<BOS>'] + tokens + ['<EOS>'] + ['<PAD>'] * (pad - len(tokens))\n",
    "        test_sentences.append([word2idx[token] for token in padded])"
   ]
  },
  {
   "cell_type": "code",
   "execution_count": 10,
   "id": "82318b89",
   "metadata": {},
   "outputs": [],
   "source": [
    "x_test = []\n",
    "y_test = []\n",
    "for sentence in test_sentences:\n",
    "    for i in range(pad - 2):\n",
    "            x_test.append([sentence[i], sentence[i+1]])\n",
    "            y_test.append(sentence[i+2])\n",
    "X_test = np.array(x_test)\n",
    "Y_test = np.array(y_test)\n",
    "Yo_test = one_hot(Y_test, len(vocab))"
   ]
  },
  {
   "cell_type": "markdown",
   "id": "d01a635e",
   "metadata": {},
   "source": [
    "# Algorithm for Feed Forward Network."
   ]
  },
  {
   "cell_type": "code",
   "execution_count": 11,
   "id": "707248fb",
   "metadata": {},
   "outputs": [],
   "source": [
    "h = np.random.randn(2, 6) \n",
    "b = np.random.randn(6)\n",
    "O = np.random.randn(6, len(vocab)) "
   ]
  },
  {
   "cell_type": "code",
   "execution_count": 12,
   "id": "3797668c",
   "metadata": {},
   "outputs": [],
   "source": [
    "def calc_z(x,w,b):\n",
    "    return np.matmul(x,w) + b"
   ]
  },
  {
   "cell_type": "code",
   "execution_count": 13,
   "id": "21f31577",
   "metadata": {},
   "outputs": [],
   "source": [
    "def calc_output(a,w):\n",
    "    return np.matmul(a,w)"
   ]
  },
  {
   "cell_type": "code",
   "execution_count": 14,
   "id": "f743255c",
   "metadata": {},
   "outputs": [],
   "source": [
    "def sigmoid(z):\n",
    "    return 1/(1 + np.exp(-z))"
   ]
  },
  {
   "cell_type": "code",
   "execution_count": 15,
   "id": "62360670",
   "metadata": {},
   "outputs": [],
   "source": [
    "def relu(z):\n",
    "    return np.maximum(np.zeros([z.shape[0], z.shape[1]]), z)"
   ]
  },
  {
   "cell_type": "code",
   "execution_count": 16,
   "id": "d63db655",
   "metadata": {},
   "outputs": [],
   "source": [
    "def softmax(z):\n",
    "    z1 = z - np.max(z, axis=-1, keepdims=True)\n",
    "#     z1 = z - max(z)\n",
    "    numerator = np.exp(z1)\n",
    "    denomintaor = np.sum(numerator)\n",
    "    softmax = numerator/denomintaor\n",
    "    \n",
    "    return softmax\n",
    "#     return (np.exp(z).T / np.sum(np.exp(z),axis=1)).T"
   ]
  },
  {
   "cell_type": "code",
   "execution_count": 17,
   "id": "d912d2fe",
   "metadata": {},
   "outputs": [],
   "source": [
    "def feed_forward_step(x,h,b,O):\n",
    "    \n",
    "    Z1 = calc_z(x,h,b)\n",
    "#     A1 = relu(Z1)\n",
    "    A1 = sigmoid(Z1)\n",
    "    Z2 = calc_output(A1,O)\n",
    "    Y_hat = softmax(Z2)\n",
    "    \n",
    "    return Y_hat, A1"
   ]
  },
  {
   "cell_type": "code",
   "execution_count": 18,
   "id": "392cb8a7",
   "metadata": {},
   "outputs": [],
   "source": [
    "def cross_entropy(y, y_hat):\n",
    "    return y * np.log(y_hat)"
   ]
  },
  {
   "cell_type": "code",
   "execution_count": 19,
   "id": "bb8bb952",
   "metadata": {},
   "outputs": [],
   "source": [
    "def cost_func(y, y_hat):\n",
    "    ce = cross_entropy(y, y_hat)\n",
    "    return - np.mean(ce)"
   ]
  },
  {
   "cell_type": "code",
   "execution_count": 20,
   "id": "cb80ea6e",
   "metadata": {},
   "outputs": [],
   "source": [
    "def accuracy(y, Y_hat):\n",
    "    predicted = np.argmax(Y_hat, axis = 1)\n",
    "    acc = 0\n",
    "    for yi, y_hati in zip(y, predicted):\n",
    "        if yi == y_hati:\n",
    "            acc += 1\n",
    "            \n",
    "    return (acc/y.shape[0])*100"
   ]
  },
  {
   "cell_type": "code",
   "execution_count": 21,
   "id": "ade2c5b4",
   "metadata": {},
   "outputs": [],
   "source": [
    "def feed_forward_network(X, h, b, O, Yo, Y, lr, epochs):\n",
    "    \n",
    "    cost_list = []\n",
    "    acc_list = []\n",
    "    \n",
    "    for i in range(epochs):\n",
    "        Y_hat, A1 = feed_forward_step(X,h,b,O)\n",
    "        cost = cost_func(Yo, Y_hat)\n",
    "        \n",
    "        gradient_z2 = Y_hat - Yo\n",
    "        gradient_O = (gradient_z2.T @ A1).T\n",
    "        gradient_sigmoid = A1 * (1-A1) ## 75 X 6  \n",
    "#         gradient_relu = binarize(A1)\n",
    "        gradient_h = (((gradient_z2)@O.T * gradient_sigmoid).T @ X).T   \n",
    "        gradient_b = np.sum((gradient_z2)@O.T * gradient_sigmoid, axis = 0)\n",
    "#         gradient_O = ((Y_hat - Yo).T @ A1).T\n",
    "    \n",
    "        # gradient update\n",
    "    \n",
    "        h -= lr*gradient_h\n",
    "        b -= lr*gradient_b\n",
    "        O -= lr*gradient_O\n",
    "        \n",
    "        cost_list.append(cost)\n",
    "        \n",
    "#     Y_hat, A1 = feed_forward_step(X,h,b,O)\n",
    "    \n",
    "    return cost_list, h, b ,O\n",
    "    "
   ]
  },
  {
   "cell_type": "code",
   "execution_count": 22,
   "id": "9e5ed80e",
   "metadata": {},
   "outputs": [],
   "source": [
    "lr = 0.001\n",
    "epochs = 50"
   ]
  },
  {
   "cell_type": "code",
   "execution_count": 23,
   "id": "f962da75",
   "metadata": {},
   "outputs": [],
   "source": [
    "cost_list, h, b , O = feed_forward_network(X, h, b, O, Yo, Y, lr, epochs)"
   ]
  },
  {
   "cell_type": "code",
   "execution_count": 24,
   "id": "976e2d8a",
   "metadata": {},
   "outputs": [
    {
     "data": {
      "image/png": "[encoded data removed]",
      "text/plain": [
       "<Figure size 640x480 with 1 Axes>"
      ]
     },
     "metadata": {},
     "output_type": "display_data"
    }
   ],
   "source": [
    "plt.plot(cost_list)\n",
    "plt.show()"
   ]
  },
  {
   "cell_type": "markdown",
   "id": "632316a1",
   "metadata": {},
   "source": [
    "## Testing"
   ]
  },
  {
   "cell_type": "code",
   "execution_count": 25,
   "id": "1b5e0a61",
   "metadata": {},
   "outputs": [],
   "source": [
    "Y_hat_test, A1_test = feed_forward_step(X_test,h,b,O)"
   ]
  },
  {
   "cell_type": "code",
   "execution_count": 26,
   "id": "c43fd8be",
   "metadata": {},
   "outputs": [],
   "source": [
    "Y__, A__ = feed_forward_step([6, 13], h, b, O)"
   ]
  },
  {
   "cell_type": "code",
   "execution_count": 27,
   "id": "9a85af66",
   "metadata": {},
   "outputs": [
    {
     "data": {
      "text/plain": [
       "array([1.51810098e-02, 6.01094568e-03, 2.67586974e-03, 6.02084267e-02,\n",
       "       2.89985782e-01, 1.97800106e-03, 7.82089757e-03, 1.48602110e-02,\n",
       "       4.25271364e-03, 4.19447018e-02, 1.71578505e-03, 6.42546731e-03,\n",
       "       8.94311181e-03, 3.95951290e-01, 5.56141609e-03, 3.09414657e-02,\n",
       "       3.64528000e-04, 6.43496082e-03, 1.56307375e-03, 2.57848342e-03,\n",
       "       8.35160990e-02, 1.10857603e-02])"
      ]
     },
     "execution_count": 27,
     "metadata": {},
     "output_type": "execute_result"
    }
   ],
   "source": [
    "Y__"
   ]
  },
  {
   "cell_type": "code",
   "execution_count": 28,
   "id": "e7d9345a",
   "metadata": {},
   "outputs": [
    {
     "data": {
      "text/plain": [
       "'in'"
      ]
     },
     "execution_count": 28,
     "metadata": {},
     "output_type": "execute_result"
    }
   ],
   "source": [
    "idx2word[np.argmax(Y__)]"
   ]
  },
  {
   "cell_type": "code",
   "execution_count": 29,
   "id": "1e853398",
   "metadata": {},
   "outputs": [
    {
     "data": {
      "text/plain": [
       "array([17, 13, 13, 13, 13,  3, 13, 13, 13, 13,  3, 13, 13, 13, 13, 17, 13,\n",
       "       13, 13, 13,  3, 13, 13, 13, 13])"
      ]
     },
     "execution_count": 29,
     "metadata": {},
     "output_type": "execute_result"
    }
   ],
   "source": [
    "np.argmax(Y_hat_test, axis = 1)"
   ]
  },
  {
   "cell_type": "code",
   "execution_count": 30,
   "id": "cbb41576",
   "metadata": {},
   "outputs": [
    {
     "data": {
      "text/plain": [
       "{'.': 0,\n",
       " '<BOS>': 1,\n",
       " '<EOS>': 2,\n",
       " '<PAD>': 3,\n",
       " '?': 4,\n",
       " 'again': 5,\n",
       " 'am': 6,\n",
       " 'are': 7,\n",
       " 'england': 8,\n",
       " 'greece': 9,\n",
       " 'he': 10,\n",
       " 'here': 11,\n",
       " 'i': 12,\n",
       " 'in': 13,\n",
       " 'is': 14,\n",
       " 'mexico': 15,\n",
       " 'she': 16,\n",
       " 'still': 17,\n",
       " 'tired': 18,\n",
       " 'were': 19,\n",
       " 'where': 20,\n",
       " 'you': 21}"
      ]
     },
     "execution_count": 30,
     "metadata": {},
     "output_type": "execute_result"
    }
   ],
   "source": [
    "word2idx"
   ]
  },
  {
   "cell_type": "code",
   "execution_count": 31,
   "id": "6e1deffb",
   "metadata": {},
   "outputs": [
    {
     "data": {
      "text/plain": [
       "array([ 7, 21,  4,  2,  3, 16, 13, 15,  4,  2,  6, 13,  9,  0,  2, 14, 13,\n",
       "       15,  0,  2, 16, 13,  8,  4,  2])"
      ]
     },
     "execution_count": 31,
     "metadata": {},
     "output_type": "execute_result"
    }
   ],
   "source": [
    "Y_test"
   ]
  },
  {
   "cell_type": "code",
   "execution_count": 32,
   "id": "49c77619",
   "metadata": {},
   "outputs": [],
   "source": [
    "Y_hat, A1 = feed_forward_step(X,h,b,O)"
   ]
  },
  {
   "cell_type": "code",
   "execution_count": 33,
   "id": "39e1a908",
   "metadata": {},
   "outputs": [
    {
     "data": {
      "text/plain": [
       "array([ 4, 13, 13, 13, 13, 17, 13, 13, 13, 13,  3, 13, 13, 13, 13,  4, 13,\n",
       "       13, 13, 13,  3, 13, 13, 13, 13,  4, 13, 13, 13, 13, 17, 13, 13, 13,\n",
       "       13,  3, 13, 13, 13, 13, 17, 13, 13, 13, 13,  4, 13, 13, 13, 13,  3,\n",
       "       13, 13, 13, 13,  4, 13, 13, 13, 13,  4, 13, 13, 13, 13, 17, 13, 13,\n",
       "       13, 13,  3, 13, 13, 13, 13])"
      ]
     },
     "execution_count": 33,
     "metadata": {},
     "output_type": "execute_result"
    }
   ],
   "source": [
    "np.argmax(Y_hat, axis = 1)"
   ]
  },
  {
   "cell_type": "code",
   "execution_count": null,
   "id": "15766d2e",
   "metadata": {},
   "outputs": [],
   "source": []
  }
 ],
 "metadata": {
  "kernelspec": {
   "display_name": "Python 3 (ipykernel)",
   "language": "python",
   "name": "python3"
  },
  "language_info": {
   "codemirror_mode": {
    "name": "ipython",
    "version": 3
   },
   "file_extension": ".py",
   "mimetype": "text/x-python",
   "name": "python",
   "nbconvert_exporter": "python",
   "pygments_lexer": "ipython3",
   "version": "3.9.13"
  }
 },
 "nbformat": 4,
 "nbformat_minor": 5
}
