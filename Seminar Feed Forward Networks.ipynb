{
 "cells": [
  {
   "cell_type": "markdown",
   "id": "efbab2a9",
   "metadata": {},
   "source": [
    "https://levelup.gitconnected.com/killer-combo-softmax-and-cross-entropy-5907442f60ba"
   ]
  },
  {
   "cell_type": "markdown",
   "id": "e47a5ada",
   "metadata": {},
   "source": [
    "# Data Preparation."
   ]
  },
  {
   "cell_type": "code",
   "execution_count": 1,
   "id": "e7c40c78",
   "metadata": {},
   "outputs": [],
   "source": [
    "import re \n",
    "import numpy as np\n",
    "from sklearn import preprocessing\n",
    "import matplotlib.pyplot as plt\n",
    "from sklearn.preprocessing import binarize\n",
    "np.random.seed(5)"
   ]
  },
  {
   "cell_type": "code",
   "execution_count": 2,
   "id": "c4a7ad26",
   "metadata": {},
   "outputs": [],
   "source": [
    "test_text = '''where are you?\n",
    "is she in mexico?\n",
    "i am in greece.\n",
    "she is in mexico.\n",
    "is she in england?\n",
    "'''\n",
    "\n",
    "train_text = '''are you still here?\n",
    "where are you?\n",
    "he is in mexico.\n",
    "are you tired?\n",
    "i am tired.\n",
    "are you in england?\n",
    "were you in mexico?\n",
    "is he in greece?\n",
    "were you in england?\n",
    "are you in mexico?\n",
    "i am in mexico.\n",
    "are you still in mexico? \n",
    "are you in greece again?\n",
    "she is in england.\n",
    "he is tired.\n",
    "am i in mexico?\n",
    "how are you?\n",
    "'''"
   ]
  },
  {
   "cell_type": "code",
   "execution_count": 3,
   "id": "90df5429",
   "metadata": {},
   "outputs": [],
   "source": [
    "def tokenise(s):\n",
    "    return [i for i in re.sub('([.?])', ' \\g<1>', s).strip().split(' ') if i]"
   ]
  },
  {
   "cell_type": "code",
   "execution_count": 4,
   "id": "2d719d1d",
   "metadata": {},
   "outputs": [],
   "source": [
    "def one_hot(y, classes):\n",
    "    onehot = np.zeros((len(y), classes)) # creates matrix of ? rows, ? columns \n",
    "    \n",
    "    # Iterate through y and update onehot's column to 1 based on the class\n",
    "    # y [0, 1, 4, 3, 2]\n",
    "    for i, v in enumerate(y):\n",
    "        onehot[i][v] = 1\n",
    "    return onehot"
   ]
  },
  {
   "cell_type": "code",
   "execution_count": 5,
   "id": "16303cbf",
   "metadata": {},
   "outputs": [],
   "source": [
    "vocab = list(set([token for token in re.sub('([.?])', ' \\g<1>', train_text)\n",
    "             .replace(' ', '\\n').strip().split('\\n') if token]))\n",
    "vocab += ['<BOS>', '<EOS>', '<PAD>']\n",
    "vocab.sort()"
   ]
  },
  {
   "cell_type": "code",
   "execution_count": 6,
   "id": "67afe85d",
   "metadata": {},
   "outputs": [],
   "source": [
    "word2idx = {word: idx for idx, word in enumerate(vocab)}\n",
    "idx2word = {idx: word for word, idx in word2idx.items()}"
   ]
  },
  {
   "cell_type": "code",
   "execution_count": 7,
   "id": "39fd5734",
   "metadata": {},
   "outputs": [],
   "source": [
    "pad = max([len(tokenise(i)) for i in train_text.split('\\n')]) + 1\n",
    "train_sentences = []\n",
    "for line in train_text.strip().split('\\n'):\n",
    "        tokens = tokenise(line)\n",
    "        padded = ['<BOS>'] + tokens + ['<EOS>'] + ['<PAD>'] * (pad - len(tokens))\n",
    "        train_sentences.append([word2idx[token] for token in padded])"
   ]
  },
  {
   "cell_type": "code",
   "execution_count": 8,
   "id": "6dff04f8",
   "metadata": {},
   "outputs": [],
   "source": [
    "x = []\n",
    "y = []\n",
    "for sentence in train_sentences:\n",
    "    for i in range(pad - 2):\n",
    "            x.append([sentence[i], sentence[i+1]])\n",
    "            y.append(sentence[i+2])\n",
    "X = np.array(x)\n",
    "Y = np.array(y)\n",
    "Yo = one_hot(Y, len(vocab))"
   ]
  },
  {
   "cell_type": "code",
   "execution_count": 9,
   "id": "937f7437",
   "metadata": {},
   "outputs": [],
   "source": [
    "test_sentences = []\n",
    "for line in test_text.strip().split('\\n'):\n",
    "        tokens = tokenise(line)\n",
    "        padded = ['<BOS>'] + tokens + ['<EOS>'] + ['<PAD>'] * (pad - len(tokens))\n",
    "        test_sentences.append([word2idx[token] for token in padded])"
   ]
  },
  {
   "cell_type": "code",
   "execution_count": 10,
   "id": "82318b89",
   "metadata": {},
   "outputs": [],
   "source": [
    "x_test = []\n",
    "y_test = []\n",
    "for sentence in test_sentences:\n",
    "    for i in range(pad - 2):\n",
    "            x_test.append([sentence[i], sentence[i+1]])\n",
    "            y_test.append(sentence[i+2])\n",
    "X_test = np.array(x_test)\n",
    "Y_test = np.array(y_test)\n",
    "Yo_test = one_hot(Y_test, len(vocab))"
   ]
  },
  {
   "cell_type": "markdown",
   "id": "d01a635e",
   "metadata": {},
   "source": [
    "# Algorithm for Feed Forward Network."
   ]
  },
  {
   "cell_type": "code",
   "execution_count": 11,
   "id": "707248fb",
   "metadata": {},
   "outputs": [],
   "source": [
    "input_features = 2\n",
    "hidden_units = 12\n",
    "labels = len(vocab)\n",
    "w1 = np.random.randn(input_features, hidden_units) \n",
    "b1 = np.random.randn(hidden_units)\n",
    "w2 = np.random.randn(hidden_units, labels) "
   ]
  },
  {
   "cell_type": "code",
   "execution_count": 12,
   "id": "f743255c",
   "metadata": {},
   "outputs": [],
   "source": [
    "def sigmoid(z):\n",
    "    return 1/(1 + np.exp(-z))"
   ]
  },
  {
   "cell_type": "code",
   "execution_count": 13,
   "id": "62360670",
   "metadata": {},
   "outputs": [],
   "source": [
    "def relu(z):\n",
    "    return np.maximum(np.zeros([z.shape[0], z.shape[1]]), z)"
   ]
  },
  {
   "cell_type": "code",
   "execution_count": 14,
   "id": "d63db655",
   "metadata": {},
   "outputs": [],
   "source": [
    "def softmax(z):\n",
    "    z1 = z - np.max(z, axis=-1, keepdims=True)\n",
    "#     z1 = z - max(z)\n",
    "    numerator = np.exp(z1)\n",
    "    denomintaor = np.sum(numerator)\n",
    "    softmax = numerator/denomintaor\n",
    "    \n",
    "    return softmax\n",
    "#     return (np.exp(z).T / np.sum(np.exp(z),axis=1)).T"
   ]
  },
  {
   "cell_type": "code",
   "execution_count": 15,
   "id": "d912d2fe",
   "metadata": {},
   "outputs": [],
   "source": [
    "def feed_forward_step(x,w1,b1,w2):\n",
    "    \n",
    "    Z1 = X@w1 + b1       ## n X input_features @ input_features X hidden_units = n X hidden_units\n",
    "    A1 = sigmoid(Z1)     ## n X hidden_units\n",
    "    Z2 = A1@w2           ## n X hidden_units @ hidden_units X labels = n X labels\n",
    "    A2 = softmax(Z2)     ## n X labels\n",
    "    \n",
    "    return A2, A1"
   ]
  },
  {
   "cell_type": "code",
   "execution_count": 16,
   "id": "392cb8a7",
   "metadata": {},
   "outputs": [],
   "source": [
    "def cross_entropy(y, y_hat):\n",
    "    return y * np.log(y_hat)"
   ]
  },
  {
   "cell_type": "code",
   "execution_count": 17,
   "id": "bb8bb952",
   "metadata": {},
   "outputs": [],
   "source": [
    "def cost_func(y, y_hat):\n",
    "    ce = cross_entropy(y, y_hat)\n",
    "    return - np.mean(ce)"
   ]
  },
  {
   "cell_type": "code",
   "execution_count": 18,
   "id": "cb80ea6e",
   "metadata": {},
   "outputs": [],
   "source": [
    "def accuracy(y, Y_hat):\n",
    "    predicted = np.argmax(Y_hat, axis = 1)\n",
    "    acc = 0\n",
    "    for yi, y_hati in zip(y, predicted):\n",
    "        if yi == y_hati:\n",
    "            acc += 1\n",
    "            \n",
    "    return (acc/y.shape[0])*100"
   ]
  },
  {
   "cell_type": "code",
   "execution_count": 19,
   "id": "366482a7",
   "metadata": {},
   "outputs": [],
   "source": [
    "def generate(w1, w2, b1, prefix):\n",
    "    # Converting our word input into numerical representation\n",
    "    # ids = [word2idx[token] for token in prefix]\n",
    "    \n",
    "    # Creating array for input to the neural network model\n",
    "    X = np.array(prefix)\n",
    "    \n",
    "    # Finding the output of the neural network\n",
    "    y_hat, a1 = feed_forward_step(X, w1, b1, w2)\n",
    "    \n",
    "    # Returning the word for the numerical output with the highest probability\n",
    "    # return idx2word[np.argmax(y_hat)]\n",
    "    return np.argmax(y_hat)"
   ]
  },
  {
   "cell_type": "code",
   "execution_count": 20,
   "id": "ade2c5b4",
   "metadata": {},
   "outputs": [],
   "source": [
    "def feed_forward_network(X, w1, b1, w2, Yo, Y, lr, epochs):\n",
    "    \n",
    "    cost_list = []\n",
    "    acc_list = []\n",
    "    \n",
    "    for i in range(epochs):\n",
    "        Y_hat, A1 = feed_forward_step(X, w1, b1, w2)\n",
    "        cost = cost_func(Yo, Y_hat)\n",
    "        \n",
    "        # dL/dz2 = dL/da2 * da2/dz2\n",
    "        der_L_z2 = Y_hat - Yo                 ## n X labels\n",
    "        # dL/dw2 = dL/dz2 * dz2/dw2\n",
    "        der_L_w2 = (der_L_z2.T @ A1).T        ## ((n X labels).T @  n X hidden_units).T = hidden_units X labels\n",
    "        \n",
    "        # dL/da1 = dL/dz2 * dz2/da1\n",
    "        der_L_a1 = der_L_z2 @ w2.T            ## n X labels @ (hidden_units X labels).T = n X hidden_units\n",
    "        # da1/dz1 = d(activation(z1))/dz1\n",
    "        der_a1_z1 = A1 * (1 - A1)             ## n X hidden_units * n X hidden_units = n X hidden_units\n",
    "        # dL/dz1 = dL/da1 * da1/dz1\n",
    "        der_L_z1 = der_L_a1 * der_a1_z1       ## n X hidden_units * n X hidden_units = n X hidden_units\n",
    "        # dL/dw1 = dL/dz1 * dz1/dw1\n",
    "        der_L_w1 = (der_L_z1.T @ X).T         ## ((n X hidden_units).T @ n X input_features).T = input_features X hidden_units\n",
    "        # dL/dw1 = dL/dz1 * dz1/db1\n",
    "        der_L_b1 = np.sum(der_L_z1, axis=0)   ## sum(n X hidden_units) = hidden_units\n",
    "    \n",
    "        # gradient update\n",
    "        \n",
    "        w1 -= lr*der_L_w1\n",
    "        b1 -= lr*der_L_b1\n",
    "        w2 -= lr*der_L_w2\n",
    "        \n",
    "        cost_list.append(cost)\n",
    "    \n",
    "    \n",
    "    return cost_list, w1, b1, w2\n",
    "    "
   ]
  },
  {
   "cell_type": "code",
   "execution_count": 21,
   "id": "9e5ed80e",
   "metadata": {},
   "outputs": [],
   "source": [
    "lr = 0.001\n",
    "epochs = 50"
   ]
  },
  {
   "cell_type": "code",
   "execution_count": 22,
   "id": "f962da75",
   "metadata": {},
   "outputs": [],
   "source": [
    "cost_list, w1, b1, w2 = feed_forward_network(X, w1, b1, w2, Yo, Y, lr, epochs)"
   ]
  },
  {
   "cell_type": "code",
   "execution_count": 23,
   "id": "976e2d8a",
   "metadata": {},
   "outputs": [
    {
     "data": {
      "image/png": "[encoded data removed]",
      "text/plain": [
       "<Figure size 640x480 with 1 Axes>"
      ]
     },
     "metadata": {},
     "output_type": "display_data"
    }
   ],
   "source": [
    "plt.plot(cost_list)\n",
    "plt.show()"
   ]
  },
  {
   "cell_type": "markdown",
   "id": "632316a1",
   "metadata": {},
   "source": [
    "## Testing"
   ]
  },
  {
   "cell_type": "code",
   "execution_count": 24,
   "id": "1b5e0a61",
   "metadata": {},
   "outputs": [
    {
     "name": "stdout",
     "output_type": "stream",
     "text": [
      "14 7\n",
      "['<BOS>', 'where'] -> in\n",
      "14 22\n",
      "['where', 'are'] -> in\n",
      "14 4\n",
      "['are', 'you'] -> in\n",
      "14 2\n",
      "['you', '?'] -> in\n",
      "14 3\n",
      "['?', '<EOS>'] -> in\n",
      "14 17\n",
      "['<BOS>', 'is'] -> in\n",
      "14 14\n",
      "['is', 'she'] -> in\n",
      "14 16\n",
      "['she', 'in'] -> in\n",
      "14 4\n",
      "['in', 'mexico'] -> in\n",
      "14 2\n",
      "['mexico', '?'] -> in\n",
      "14 6\n",
      "['<BOS>', 'i'] -> in\n",
      "14 14\n",
      "['i', 'am'] -> in\n",
      "14 9\n",
      "['am', 'in'] -> in\n",
      "14 0\n",
      "['in', 'greece'] -> in\n",
      "14 2\n",
      "['greece', '.'] -> in\n",
      "14 15\n",
      "['<BOS>', 'she'] -> in\n",
      "14 14\n",
      "['she', 'is'] -> in\n",
      "14 16\n",
      "['is', 'in'] -> in\n",
      "14 0\n",
      "['in', 'mexico'] -> in\n",
      "14 2\n",
      "['mexico', '.'] -> in\n",
      "14 17\n",
      "['<BOS>', 'is'] -> in\n",
      "14 14\n",
      "['is', 'she'] -> in\n",
      "14 8\n",
      "['she', 'in'] -> in\n",
      "14 4\n",
      "['in', 'england'] -> in\n",
      "14 2\n",
      "['england', '?'] -> in\n",
      "4 / 25\n"
     ]
    }
   ],
   "source": [
    "total = 0\n",
    "correct = 0\n",
    "for prefix, y in zip(X_test, Y_test):\n",
    "    next_word = generate(w1, w2, b1, prefix)\n",
    "    print(next_word, y)\n",
    "    print([idx2word[token] for token in prefix], '->', idx2word[next_word])\n",
    "    if next_word == y:\n",
    "        correct += 1\n",
    "    total += 1\n",
    "    \n",
    "print(correct,'/',total)"
   ]
  },
  {
   "cell_type": "code",
   "execution_count": null,
   "id": "15766d2e",
   "metadata": {},
   "outputs": [],
   "source": []
  }
 ],
 "metadata": {
  "kernelspec": {
   "display_name": "Python 3 (ipykernel)",
   "language": "python",
   "name": "python3"
  },
  "language_info": {
   "codemirror_mode": {
    "name": "ipython",
    "version": 3
   },
   "file_extension": ".py",
   "mimetype": "text/x-python",
   "name": "python",
   "nbconvert_exporter": "python",
   "pygments_lexer": "ipython3",
   "version": "3.9.13"
  }
 },
 "nbformat": 4,
 "nbformat_minor": 5
}
